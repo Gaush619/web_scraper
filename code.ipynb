{
 "cells": [
  {
   "cell_type": "code",
   "execution_count": 2,
   "metadata": {},
   "outputs": [],
   "source": [
    "# import libraries\n",
    "\n",
    "from bs4 import BeautifulSoup\n",
    "import requests\n",
    "import smtplib\n",
    "import time\n",
    "import datetime"
   ]
  },
  {
   "cell_type": "code",
   "execution_count": null,
   "metadata": {},
   "outputs": [],
   "source": [
    "URL = \"https://www.amazon.in/Sony-CFI-2008A01X-PlayStation%C2%AE5-Console-slim/dp/B0CY5HVDS2/ref=sr_1_2?crid=2Y0AAN4C2PFV&dib=eyJ2IjoiMSJ9.LFVt-P4VfYSI0tw5J_cegSK92whhtXrjDDzVMLUNuoWMP0Qu3Fvqp9xmMm0QxDpw3Zyvv-Y6-DxwBdtJqTTFgLkfdJZBWp9VTNuHi_iUlfnf9Tt05IorIHCDhb6gf5gZ6B3D1hPqKLFB4DNwsE5shXnNdJ1Xcv6qdeH8yHNgDYoHmhiZjtWGPnvL4EXP_o6p--xoyXyAbiJVeSqXHcJpbxpqSLyCgygdh4lQYB_V3zI.wDiOT8nN9sGhGrPUGVeSyQiAW-vsZ5_8aINRE9ZLfHg&dib_tag=se&keywords=ps+5&qid=1721423060&sprefix=ps+%2Caps%2C234&sr=8-2\"\n",
    "headers = {    \"User-Agent\": \"Mozilla/5.0 (Windows NT 10.0; Win64; x64) AppleWebKit/537.36 (KHTML, like Gecko) Chrome/126.0.0.0 Safari/537.36\",  \"Accept-Encoding\":\"gzip, deflate\", \"Accept\":\"text/html,application/xhtml+xml,application/xml;q=0.9,*/*;q=0.8\", \"DNT\":\"1\",\"Connection\":\"close\", \"Upgrade-Insecure-Requests\":\"1\"}"
   ]
  }
 ],
 "metadata": {
  "kernelspec": {
   "display_name": "Python 3",
   "language": "python",
   "name": "python3"
  },
  "language_info": {
   "codemirror_mode": {
    "name": "ipython",
    "version": 3
   },
   "file_extension": ".py",
   "mimetype": "text/x-python",
   "name": "python",
   "nbconvert_exporter": "python",
   "pygments_lexer": "ipython3",
   "version": "3.12.4"
  }
 },
 "nbformat": 4,
 "nbformat_minor": 2
}
